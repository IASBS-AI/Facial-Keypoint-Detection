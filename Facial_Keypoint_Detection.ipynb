{
  "nbformat": 4,
  "nbformat_minor": 0,
  "metadata": {
    "colab": {
      "name": "Facial-Keypoint Detection.ipynb",
      "provenance": [],
      "collapsed_sections": [
        "zb3_Qb9C1hV7",
        "LRsBwo430jBk"
      ],
      "include_colab_link": true
    },
    "kernelspec": {
      "name": "python3",
      "display_name": "Python 3"
    },
    "accelerator": "GPU"
  },
  "cells": [
    {
      "cell_type": "markdown",
      "metadata": {
        "id": "view-in-github",
        "colab_type": "text"
      },
      "source": [
        "<a href=\"https://colab.research.google.com/github/arnejad/Facial-Keypoint-Detection/blob/master/Facial_Keypoint_Detection.ipynb\" target=\"_parent\"><img src=\"https://colab.research.google.com/assets/colab-badge.svg\" alt=\"Open In Colab\"/></a>"
      ]
    },
    {
      "cell_type": "markdown",
      "metadata": {
        "id": "z5BlgXAe1iM2",
        "colab_type": "text"
      },
      "source": [
        "### **Facial Keypoint Detections - Kaggle challenge**\n",
        "The code is divided into n parts.\n",
        "- Loading Data from Kaggle API\n",
        "- Data Preparation\n",
        "- Visualization\n",
        "- Data Augmentation"
      ]
    },
    {
      "cell_type": "code",
      "metadata": {
        "id": "3NCIL3NcumX-",
        "colab_type": "code",
        "colab": {}
      },
      "source": [
        "import numpy as np\n",
        "import matplotlib.pyplot as plt\n",
        "import pandas as pd\n",
        "from IPython.display import clear_output\n",
        "from time import sleep\n",
        "import os\n",
        "import random"
      ],
      "execution_count": null,
      "outputs": []
    },
    {
      "cell_type": "markdown",
      "metadata": {
        "id": "zb3_Qb9C1hV7",
        "colab_type": "text"
      },
      "source": [
        "### **Loading Data from Kaggle into notebook** (one time execution)\n"
      ]
    },
    {
      "cell_type": "code",
      "metadata": {
        "id": "MM5WQCaSnLxa",
        "colab_type": "code",
        "colab": {
          "base_uri": "https://localhost:8080/",
          "height": 222
        },
        "outputId": "29f0353f-a661-46fd-bc99-d964c9e35f60"
      },
      "source": [
        "! pip install kaggle\n",
        "!mkdir -p ~/.kaggle"
      ],
      "execution_count": null,
      "outputs": [
        {
          "output_type": "stream",
          "text": [
            "Requirement already satisfied: kaggle in /usr/local/lib/python3.6/dist-packages (1.5.6)\n",
            "Requirement already satisfied: six>=1.10 in /usr/local/lib/python3.6/dist-packages (from kaggle) (1.15.0)\n",
            "Requirement already satisfied: python-slugify in /usr/local/lib/python3.6/dist-packages (from kaggle) (4.0.1)\n",
            "Requirement already satisfied: python-dateutil in /usr/local/lib/python3.6/dist-packages (from kaggle) (2.8.1)\n",
            "Requirement already satisfied: urllib3<1.25,>=1.21.1 in /usr/local/lib/python3.6/dist-packages (from kaggle) (1.24.3)\n",
            "Requirement already satisfied: requests in /usr/local/lib/python3.6/dist-packages (from kaggle) (2.23.0)\n",
            "Requirement already satisfied: certifi in /usr/local/lib/python3.6/dist-packages (from kaggle) (2020.6.20)\n",
            "Requirement already satisfied: tqdm in /usr/local/lib/python3.6/dist-packages (from kaggle) (4.41.1)\n",
            "Requirement already satisfied: text-unidecode>=1.3 in /usr/local/lib/python3.6/dist-packages (from python-slugify->kaggle) (1.3)\n",
            "Requirement already satisfied: chardet<4,>=3.0.2 in /usr/local/lib/python3.6/dist-packages (from requests->kaggle) (3.0.4)\n",
            "Requirement already satisfied: idna<3,>=2.5 in /usr/local/lib/python3.6/dist-packages (from requests->kaggle) (2.10)\n"
          ],
          "name": "stdout"
        }
      ]
    },
    {
      "cell_type": "code",
      "metadata": {
        "id": "S0L1SqUanbcS",
        "colab_type": "code",
        "colab": {
          "resources": {
            "http://localhost:8080/nbextensions/google.colab/files.js": {
              "data": "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",
              "ok": true,
              "headers": [
                [
                  "content-type",
                  "application/javascript"
                ]
              ],
              "status": 200,
              "status_text": "OK"
            }
          },
          "base_uri": "https://localhost:8080/",
          "height": 91
        },
        "outputId": "1ef48daf-d17e-42a4-9518-ade115e3b710"
      },
      "source": [
        "from google.colab import files\n",
        "files.upload()"
      ],
      "execution_count": null,
      "outputs": [
        {
          "output_type": "display_data",
          "data": {
            "text/html": [
              "\n",
              "     <input type=\"file\" id=\"files-f2a19f2e-6cd3-4b78-a917-7eba8863be43\" name=\"files[]\" multiple disabled\n",
              "        style=\"border:none\" />\n",
              "     <output id=\"result-f2a19f2e-6cd3-4b78-a917-7eba8863be43\">\n",
              "      Upload widget is only available when the cell has been executed in the\n",
              "      current browser session. Please rerun this cell to enable.\n",
              "      </output>\n",
              "      <script src=\"/nbextensions/google.colab/files.js\"></script> "
            ],
            "text/plain": [
              "<IPython.core.display.HTML object>"
            ]
          },
          "metadata": {
            "tags": []
          }
        },
        {
          "output_type": "stream",
          "text": [
            "Saving kaggle.json to kaggle.json\n"
          ],
          "name": "stdout"
        },
        {
          "output_type": "execute_result",
          "data": {
            "text/plain": [
              "{'kaggle.json': b'{\"username\":\"ashnejad\",\"key\":\"249dcaf84b862004c36c1fb1ff6dd01a\"}'}"
            ]
          },
          "metadata": {
            "tags": []
          },
          "execution_count": 3
        }
      ]
    },
    {
      "cell_type": "code",
      "metadata": {
        "id": "nxJVcp6in8FL",
        "colab_type": "code",
        "colab": {}
      },
      "source": [
        "!cp kaggle.json ~/.kaggle/\n",
        "!chmod 600 ~/.kaggle/kaggle.json"
      ],
      "execution_count": null,
      "outputs": []
    },
    {
      "cell_type": "code",
      "metadata": {
        "id": "iqlt3B9NoHzz",
        "colab_type": "code",
        "colab": {
          "base_uri": "https://localhost:8080/",
          "height": 259
        },
        "outputId": "97d33ac2-f514-4b67-8ae4-42feba0b8c70"
      },
      "source": [
        "!kaggle competitions download -c facial-keypoints-detection"
      ],
      "execution_count": null,
      "outputs": [
        {
          "output_type": "stream",
          "text": [
            "Warning: Looks like you're using an outdated API Version, please consider updating (server 1.5.6 / client 1.5.4)\n",
            "Downloading SampleSubmission.csv to /content\n",
            "\r  0% 0.00/201k [00:00<?, ?B/s]\n",
            "\r100% 201k/201k [00:00<00:00, 77.3MB/s]\n",
            "Downloading training.zip to /content\n",
            " 68% 41.0M/60.1M [00:01<00:00, 27.7MB/s]\n",
            "100% 60.1M/60.1M [00:01<00:00, 47.9MB/s]\n",
            "Downloading test.zip to /content\n",
            " 81% 13.0M/16.0M [00:00<00:00, 13.4MB/s]\n",
            "100% 16.0M/16.0M [00:00<00:00, 17.4MB/s]\n",
            "Downloading IdLookupTable.csv to /content\n",
            "  0% 0.00/843k [00:00<?, ?B/s]\n",
            "100% 843k/843k [00:00<00:00, 119MB/s]\n"
          ],
          "name": "stdout"
        }
      ]
    },
    {
      "cell_type": "code",
      "metadata": {
        "id": "a8WhDCRBrtQC",
        "colab_type": "code",
        "colab": {
          "base_uri": "https://localhost:8080/",
          "height": 54
        },
        "outputId": "2037ecfa-5523-48e1-bbc6-3ce14a019b29"
      },
      "source": [
        "# Unpacking downloaded zips\n",
        "# The output must contain test.csv,  training.csv,  IdLookupTable.csv\n",
        "!unzip -q training.zip -d .\n",
        "!unzip -q test.zip -d .\n",
        "!ls"
      ],
      "execution_count": null,
      "outputs": [
        {
          "output_type": "stream",
          "text": [
            "IdLookupTable.csv  sample_data\t\t test.csv  training.csv\n",
            "kaggle.json\t   SampleSubmission.csv  test.zip  training.zip\n"
          ],
          "name": "stdout"
        }
      ]
    },
    {
      "cell_type": "markdown",
      "metadata": {
        "id": "fYoJz5S9QJDw",
        "colab_type": "text"
      },
      "source": [
        "### **Data Preparation**\n"
      ]
    },
    {
      "cell_type": "code",
      "metadata": {
        "id": "NyZPuGZ7vHaB",
        "colab_type": "code",
        "colab": {}
      },
      "source": [
        "Train_Dir = 'training.csv'\n",
        "Test_Dir = 'test.csv'\n",
        "lookid_dir = 'IdLookupTable.csv'\n",
        "train = pd.read_csv(Train_Dir)  \n",
        "test = pd.read_csv(Test_Dir)\n",
        "lookid = pd.read_csv(lookid_dir)\n"
      ],
      "execution_count": null,
      "outputs": []
    },
    {
      "cell_type": "code",
      "metadata": {
        "id": "zAZBu3n_stRD",
        "colab_type": "code",
        "colab": {
          "base_uri": "https://localhost:8080/",
          "height": 724
        },
        "outputId": "986a0f9a-c6b2-4730-afd4-3ca3d0b43cff"
      },
      "source": [
        "# a preview of the data\n",
        "train.info()"
      ],
      "execution_count": null,
      "outputs": [
        {
          "output_type": "stream",
          "text": [
            "<class 'pandas.core.frame.DataFrame'>\n",
            "RangeIndex: 7049 entries, 0 to 7048\n",
            "Data columns (total 31 columns):\n",
            " #   Column                     Non-Null Count  Dtype  \n",
            "---  ------                     --------------  -----  \n",
            " 0   left_eye_center_x          7039 non-null   float64\n",
            " 1   left_eye_center_y          7039 non-null   float64\n",
            " 2   right_eye_center_x         7036 non-null   float64\n",
            " 3   right_eye_center_y         7036 non-null   float64\n",
            " 4   left_eye_inner_corner_x    2271 non-null   float64\n",
            " 5   left_eye_inner_corner_y    2271 non-null   float64\n",
            " 6   left_eye_outer_corner_x    2267 non-null   float64\n",
            " 7   left_eye_outer_corner_y    2267 non-null   float64\n",
            " 8   right_eye_inner_corner_x   2268 non-null   float64\n",
            " 9   right_eye_inner_corner_y   2268 non-null   float64\n",
            " 10  right_eye_outer_corner_x   2268 non-null   float64\n",
            " 11  right_eye_outer_corner_y   2268 non-null   float64\n",
            " 12  left_eyebrow_inner_end_x   2270 non-null   float64\n",
            " 13  left_eyebrow_inner_end_y   2270 non-null   float64\n",
            " 14  left_eyebrow_outer_end_x   2225 non-null   float64\n",
            " 15  left_eyebrow_outer_end_y   2225 non-null   float64\n",
            " 16  right_eyebrow_inner_end_x  2270 non-null   float64\n",
            " 17  right_eyebrow_inner_end_y  2270 non-null   float64\n",
            " 18  right_eyebrow_outer_end_x  2236 non-null   float64\n",
            " 19  right_eyebrow_outer_end_y  2236 non-null   float64\n",
            " 20  nose_tip_x                 7049 non-null   float64\n",
            " 21  nose_tip_y                 7049 non-null   float64\n",
            " 22  mouth_left_corner_x        2269 non-null   float64\n",
            " 23  mouth_left_corner_y        2269 non-null   float64\n",
            " 24  mouth_right_corner_x       2270 non-null   float64\n",
            " 25  mouth_right_corner_y       2270 non-null   float64\n",
            " 26  mouth_center_top_lip_x     2275 non-null   float64\n",
            " 27  mouth_center_top_lip_y     2275 non-null   float64\n",
            " 28  mouth_center_bottom_lip_x  7016 non-null   float64\n",
            " 29  mouth_center_bottom_lip_y  7016 non-null   float64\n",
            " 30  Image                      7049 non-null   object \n",
            "dtypes: float64(30), object(1)\n",
            "memory usage: 1.7+ MB\n"
          ],
          "name": "stdout"
        }
      ]
    },
    {
      "cell_type": "markdown",
      "metadata": {
        "id": "_JrenLbsEdic",
        "colab_type": "text"
      },
      "source": [
        "In the following section, the train data frame is splited into two dataframes, one containing images, the other containing key-points info."
      ]
    },
    {
      "cell_type": "code",
      "metadata": {
        "id": "JyNPBJL3U7n_",
        "colab_type": "code",
        "colab": {
          "base_uri": "https://localhost:8080/",
          "height": 206
        },
        "outputId": "33cd8686-a9e1-4cc7-8fde-58f32f279c6c"
      },
      "source": [
        "img_df = train[[\"Image\"]]     # images dataset\n",
        "points_df = train.drop(\"Image\",axis=1)   # key-points dataset\n",
        "img_df.head(5)                 # logging the first five images"
      ],
      "execution_count": null,
      "outputs": [
        {
          "output_type": "execute_result",
          "data": {
            "text/html": [
              "<div>\n",
              "<style scoped>\n",
              "    .dataframe tbody tr th:only-of-type {\n",
              "        vertical-align: middle;\n",
              "    }\n",
              "\n",
              "    .dataframe tbody tr th {\n",
              "        vertical-align: top;\n",
              "    }\n",
              "\n",
              "    .dataframe thead th {\n",
              "        text-align: right;\n",
              "    }\n",
              "</style>\n",
              "<table border=\"1\" class=\"dataframe\">\n",
              "  <thead>\n",
              "    <tr style=\"text-align: right;\">\n",
              "      <th></th>\n",
              "      <th>Image</th>\n",
              "    </tr>\n",
              "  </thead>\n",
              "  <tbody>\n",
              "    <tr>\n",
              "      <th>0</th>\n",
              "      <td>238 236 237 238 240 240 239 241 241 243 240 23...</td>\n",
              "    </tr>\n",
              "    <tr>\n",
              "      <th>1</th>\n",
              "      <td>219 215 204 196 204 211 212 200 180 168 178 19...</td>\n",
              "    </tr>\n",
              "    <tr>\n",
              "      <th>2</th>\n",
              "      <td>144 142 159 180 188 188 184 180 167 132 84 59 ...</td>\n",
              "    </tr>\n",
              "    <tr>\n",
              "      <th>3</th>\n",
              "      <td>193 192 193 194 194 194 193 192 168 111 50 12 ...</td>\n",
              "    </tr>\n",
              "    <tr>\n",
              "      <th>4</th>\n",
              "      <td>147 148 160 196 215 214 216 217 219 220 206 18...</td>\n",
              "    </tr>\n",
              "  </tbody>\n",
              "</table>\n",
              "</div>"
            ],
            "text/plain": [
              "                                               Image\n",
              "0  238 236 237 238 240 240 239 241 241 243 240 23...\n",
              "1  219 215 204 196 204 211 212 200 180 168 178 19...\n",
              "2  144 142 159 180 188 188 184 180 167 132 84 59 ...\n",
              "3  193 192 193 194 194 194 193 192 168 111 50 12 ...\n",
              "4  147 148 160 196 215 214 216 217 219 220 206 18..."
            ]
          },
          "metadata": {
            "tags": []
          },
          "execution_count": 9
        }
      ]
    },
    {
      "cell_type": "markdown",
      "metadata": {
        "id": "F_gVmX7uUe_r",
        "colab_type": "text"
      },
      "source": [
        "The elimination of rows with NaN values have reduced our original data to less than a third. Since the data volume is vital for a Deep Learning system we filled Nan values in keypoins with mean of corresponding column( Images column doesn't have any Nan value).\n"
      ]
    },
    {
      "cell_type": "code",
      "metadata": {
        "id": "dSdc5m2uTG3g",
        "colab_type": "code",
        "colab": {
          "base_uri": "https://localhost:8080/",
          "height": 706
        },
        "outputId": "8893598e-bda2-4409-e978-887d1bdcaa04"
      },
      "source": [
        "points_df = points_df.fillna(points_df.mean())\n",
        "points_df.info()"
      ],
      "execution_count": null,
      "outputs": [
        {
          "output_type": "stream",
          "text": [
            "<class 'pandas.core.frame.DataFrame'>\n",
            "RangeIndex: 7049 entries, 0 to 7048\n",
            "Data columns (total 30 columns):\n",
            " #   Column                     Non-Null Count  Dtype  \n",
            "---  ------                     --------------  -----  \n",
            " 0   left_eye_center_x          7049 non-null   float64\n",
            " 1   left_eye_center_y          7049 non-null   float64\n",
            " 2   right_eye_center_x         7049 non-null   float64\n",
            " 3   right_eye_center_y         7049 non-null   float64\n",
            " 4   left_eye_inner_corner_x    7049 non-null   float64\n",
            " 5   left_eye_inner_corner_y    7049 non-null   float64\n",
            " 6   left_eye_outer_corner_x    7049 non-null   float64\n",
            " 7   left_eye_outer_corner_y    7049 non-null   float64\n",
            " 8   right_eye_inner_corner_x   7049 non-null   float64\n",
            " 9   right_eye_inner_corner_y   7049 non-null   float64\n",
            " 10  right_eye_outer_corner_x   7049 non-null   float64\n",
            " 11  right_eye_outer_corner_y   7049 non-null   float64\n",
            " 12  left_eyebrow_inner_end_x   7049 non-null   float64\n",
            " 13  left_eyebrow_inner_end_y   7049 non-null   float64\n",
            " 14  left_eyebrow_outer_end_x   7049 non-null   float64\n",
            " 15  left_eyebrow_outer_end_y   7049 non-null   float64\n",
            " 16  right_eyebrow_inner_end_x  7049 non-null   float64\n",
            " 17  right_eyebrow_inner_end_y  7049 non-null   float64\n",
            " 18  right_eyebrow_outer_end_x  7049 non-null   float64\n",
            " 19  right_eyebrow_outer_end_y  7049 non-null   float64\n",
            " 20  nose_tip_x                 7049 non-null   float64\n",
            " 21  nose_tip_y                 7049 non-null   float64\n",
            " 22  mouth_left_corner_x        7049 non-null   float64\n",
            " 23  mouth_left_corner_y        7049 non-null   float64\n",
            " 24  mouth_right_corner_x       7049 non-null   float64\n",
            " 25  mouth_right_corner_y       7049 non-null   float64\n",
            " 26  mouth_center_top_lip_x     7049 non-null   float64\n",
            " 27  mouth_center_top_lip_y     7049 non-null   float64\n",
            " 28  mouth_center_bottom_lip_x  7049 non-null   float64\n",
            " 29  mouth_center_bottom_lip_y  7049 non-null   float64\n",
            "dtypes: float64(30)\n",
            "memory usage: 1.6 MB\n"
          ],
          "name": "stdout"
        }
      ]
    },
    {
      "cell_type": "markdown",
      "metadata": {
        "id": "BWATWHiEqZ6a",
        "colab_type": "text"
      },
      "source": [
        "Next, We will reform the images from string to matrix representation."
      ]
    },
    {
      "cell_type": "code",
      "metadata": {
        "id": "v_c29D_zqZKi",
        "colab_type": "code",
        "colab": {}
      },
      "source": [
        "imgs = []\n",
        "for i in range(0,train.shape[0]):\n",
        "    img = np.reshape(np.array(img_df[\"Image\"][i].split(' '), dtype='float'), (96,96))\n",
        "    imgs.append(img)\n",
        "\n",
        "imgs = np.array(imgs)/255.\n",
        "\n",
        "# each row of points should be conveted to a list.\n",
        "points = points_df.values.tolist()"
      ],
      "execution_count": null,
      "outputs": []
    },
    {
      "cell_type": "markdown",
      "metadata": {
        "id": "LRsBwo430jBk",
        "colab_type": "text"
      },
      "source": [
        "### **Visualization**"
      ]
    },
    {
      "cell_type": "markdown",
      "metadata": {
        "id": "4mwWLFpt0msv",
        "colab_type": "text"
      },
      "source": [
        "Now that the images are read and transformed to the proper structure we define a function for visulizaing an image with its key-points\n"
      ]
    },
    {
      "cell_type": "code",
      "metadata": {
        "id": "Jy5QkH9d0ym9",
        "colab_type": "code",
        "colab": {}
      },
      "source": [
        "def viualizeImageWithKeyPoints(img, keypoints, axis):\n",
        "  axis.imshow(img, cmap='gray')\n",
        "  axis.scatter(keypoints[::2], keypoints[1::2], marker='o', s=20)   #splits to Ys and Xs and shows\n"
      ],
      "execution_count": null,
      "outputs": []
    },
    {
      "cell_type": "code",
      "metadata": {
        "id": "4Gd4yCIb_k0i",
        "colab_type": "code",
        "colab": {
          "base_uri": "https://localhost:8080/",
          "height": 268
        },
        "outputId": "68ffab9e-2cb9-4d6d-99c8-340def66c82b"
      },
      "source": [
        "viualizeImageWithKeyPoints(imgs[158], points[158], plt)"
      ],
      "execution_count": null,
      "outputs": [
        {
          "output_type": "display_data",
          "data": {
            "image/png": "[encoded data removed]",
            "text/plain": [
              "<Figure size 432x288 with 1 Axes>"
            ]
          },
          "metadata": {
            "tags": [],
            "needs_background": "light"
          }
        }
      ]
    },
    {
      "cell_type": "markdown",
      "metadata": {
        "id": "qeuY9uGNAmlP",
        "colab_type": "text"
      },
      "source": [
        "### **Data Augmentation**\n",
        "\n",
        "In this section, we are going to use the idea which AlexNet used to produce a feature invariant to transformation. For more info, take a look at [this link](https://link.springer.com/article/10.1186/s40537-019-0197-0)\n",
        "\n",
        "For this purpose, we transofrm each image to a 85-in-85 size and place it randomly in an area in the original in a way that contains most od"
      ]
    },
    {
      "cell_type": "code",
      "metadata": {
        "id": "Ce7FrnFCBPVY",
        "colab_type": "code",
        "colab": {}
      },
      "source": [
        "def imageAugmentation(img, kps,maxCropSize = 10):\n",
        "  res_imgs=[]\n",
        "  res_pnts=[]\n",
        "  for i in range(4):\n",
        "    x_tr = random.randint(-maxCropSize,maxCropSize)\n",
        "    y_tr = random.randint(-maxCropSize,maxCropSize)\n",
        "    im = img[maxCropSize+int(y_tr/2):(96-(maxCropSize-int(y_tr/2))),\n",
        "             maxCropSize+int(x_tr/2):(96-(maxCropSize-int(x_tr/2)))]# value of crop from left, top, right, bottom respectivley\n",
        "\n",
        "\n",
        "    # calculate the new position of the key-points\n",
        "    y_tr=int(maxCropSize) + int(y_tr/2)\n",
        "    x_tr=int(maxCropSize) + int(x_tr/2)\n",
        "    pnts_tr = kps - np.array([x_tr,y_tr]*15)\n",
        "    res_imgs.append(im.reshape(96-(2*maxCropSize),96-(2*maxCropSize)))\n",
        "    res_pnts.append(pnts_tr)\n",
        "    #viualizeImageWithKeyPoints(im, pnts_tr, plt)\n",
        "\n",
        "  return np.array(res_imgs), np.array(res_pnts)"
      ],
      "execution_count": null,
      "outputs": []
    },
    {
      "cell_type": "markdown",
      "metadata": {
        "id": "-MrWjwMg24NV",
        "colab_type": "text"
      },
      "source": [
        "Creating the final augmented images dataset\n"
      ]
    },
    {
      "cell_type": "code",
      "metadata": {
        "id": "NetOMQVN4Qt4",
        "colab_type": "code",
        "colab": {
          "base_uri": "https://localhost:8080/",
          "height": 54
        },
        "outputId": "140fae67-1a53-427a-bcce-bb6aaa5aa166"
      },
      "source": [
        "finalImgs,finalPnts = list(zip(*[imageAugmentation(img,p) for img,p in zip(imgs,points)]))\n",
        "finalImgs= np.concatenate(finalImgs)\n",
        "finalPnts = np.concatenate(finalPnts)\n",
        "\n",
        "print(finalImgs.shape)\n",
        "print(finalPnts.shape)\n"
      ],
      "execution_count": null,
      "outputs": [
        {
          "output_type": "stream",
          "text": [
            "(28196, 76, 76)\n",
            "(28196, 30)\n"
          ],
          "name": "stdout"
        }
      ]
    },
    {
      "cell_type": "code",
      "metadata": {
        "id": "Rkq3KASYsTSR",
        "colab_type": "code",
        "colab": {
          "base_uri": "https://localhost:8080/",
          "height": 130
        },
        "outputId": "2ba91048-6c86-4af0-ee86-bd01ef133e46"
      },
      "source": [
        "# making sure everything is in the right place\n",
        "fig, axis = plt.subplots(1, 4)\n",
        "# axis[2]\n",
        "for i in range(0,4):\n",
        "  viualizeImageWithKeyPoints(finalImgs[i], finalPnts[i], axis[i])"
      ],
      "execution_count": null,
      "outputs": [
        {
          "output_type": "display_data",
          "data": {
            "image/png": "[encoded data removed]",
            "text/plain": [
              "<Figure size 432x288 with 4 Axes>"
            ]
          },
          "metadata": {
            "tags": [],
            "needs_background": "light"
          }
        }
      ]
    },
    {
      "cell_type": "markdown",
      "metadata": {
        "id": "IG59A5InEyZH",
        "colab_type": "text"
      },
      "source": [
        "###**Deep Learning**\n",
        "\n",
        "Now that the data is ready, we can use the Deep Learning method.\n",
        "What we propose is using Convolutional Neural Networks for to transform image into a flatten representation followed by an LSTM network. In the LSTM, each cell is responsible for learning one key-point. The order of the cells is importnat. Considering the forgetting of an LSTM system, the best practice is to put the order of the key-points in a sequance that forgeting the input image along the LSTM costs less inaccuracy. For instance, since having key-points in the left-side of face helps in producing the right-side key-points of the face, the right-side points should be learnt first."
      ]
    },
    {
      "cell_type": "markdown",
      "metadata": {
        "id": "rUF8auqePz89",
        "colab_type": "text"
      },
      "source": [
        "#### **CNN**\n",
        "\n",
        "This network is comprised of ...  TODO"
      ]
    },
    {
      "cell_type": "code",
      "metadata": {
        "id": "Vi6OOu9z7xEe",
        "colab_type": "code",
        "colab": {}
      },
      "source": [
        "from keras.models import Sequential\n",
        "from keras.layers import Dense, Conv2D, Flatten#create model\n",
        "\n",
        "model = Sequential()\n",
        "\n",
        "#CNN\n",
        "model.add(Conv2D(64, kernel_size=3, activation='tanh', input_shape=(96-(2*maxCropSize),96-(2*maxCropSize),1)))\n",
        "model.add(Conv2D(32, kernel_size=3, activation='tanh'))\n",
        "model.add(Flatten())\n",
        "model.add(Dense(10, activation=’softmax’))\n"
      ],
      "execution_count": null,
      "outputs": []
    },
    {
      "cell_type": "markdown",
      "metadata": {
        "id": "bbKP4jDJVeuD",
        "colab_type": "text"
      },
      "source": [
        "#### **LSTM**"
      ]
    },
    {
      "cell_type": "code",
      "metadata": {
        "id": "8p6EfgdTVdHb",
        "colab_type": "code",
        "colab": {}
      },
      "source": [
        "# LSTM\n"
      ],
      "execution_count": null,
      "outputs": []
    },
    {
      "cell_type": "markdown",
      "metadata": {
        "id": "zrcQtLeNVn5U",
        "colab_type": "text"
      },
      "source": [
        "#### **Compile and Train**"
      ]
    },
    {
      "cell_type": "code",
      "metadata": {
        "id": "z9tiaJALVtkO",
        "colab_type": "code",
        "colab": {}
      },
      "source": [
        "model.compile(optimizer='adam', loss='categorical_crossentropy', metrics=['accuracy'])"
      ],
      "execution_count": null,
      "outputs": []
    }
  ]
}