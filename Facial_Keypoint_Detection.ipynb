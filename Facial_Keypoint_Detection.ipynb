{
 "cells": [
  {
   "cell_type": "markdown",
   "metadata": {
    "id": "z5BlgXAe1iM2",
    "colab_type": "text"
   },
   "source": [
    "### **Facial Keypoint Detections - Kaggle challenge**\n",
    "The code is divided into n parts.\n",
    "- Loading Data from Kaggle API\n",
    "- Data Preparation\n",
    "- Visualization\n",
    "- Data Augmentation"
   ]
  },
  {
   "cell_type": "code",
   "execution_count": 8,
   "metadata": {
    "id": "3NCIL3NcumX-",
    "colab_type": "code",
    "colab": {}
   },
   "outputs": [],
   "source": [
    "import numpy as np\n",
    "import matplotlib.pyplot as plt\n",
    "import pandas as pd\n",
    "from IPython.display import clear_output\n",
    "from time import sleep\n",
    "import os\n",
    "import random"
   ]
  },
  {
   "cell_type": "markdown",
   "metadata": {
    "id": "zb3_Qb9C1hV7",
    "colab_type": "text"
   },
   "source": [
    "#### **Loading Data from Kaggle into notebook** (one time execution)\n"
   ]
  },
  {
   "cell_type": "code",
   "execution_count": null,
   "metadata": {
    "id": "MM5WQCaSnLxa",
    "colab_type": "code",
    "colab": {
     "base_uri": "https://localhost:8080/",
     "height": 222.0
    },
    "outputId": "905eb517-1615-4835-b325-244a54502cd6"
   },
   "outputs": [
    {
     "name": "stdout",
     "output_type": "stream",
     "text": [
      "Requirement already satisfied: kaggle in /usr/local/lib/python3.6/dist-packages (1.5.6)\n",
      "Requirement already satisfied: python-dateutil in /usr/local/lib/python3.6/dist-packages (from kaggle) (2.8.1)\n",
      "Requirement already satisfied: certifi in /usr/local/lib/python3.6/dist-packages (from kaggle) (2020.6.20)\n",
      "Requirement already satisfied: urllib3<1.25,>=1.21.1 in /usr/local/lib/python3.6/dist-packages (from kaggle) (1.24.3)\n",
      "Requirement already satisfied: tqdm in /usr/local/lib/python3.6/dist-packages (from kaggle) (4.41.1)\n",
      "Requirement already satisfied: python-slugify in /usr/local/lib/python3.6/dist-packages (from kaggle) (4.0.1)\n",
      "Requirement already satisfied: six>=1.10 in /usr/local/lib/python3.6/dist-packages (from kaggle) (1.15.0)\n",
      "Requirement already satisfied: requests in /usr/local/lib/python3.6/dist-packages (from kaggle) (2.23.0)\n",
      "Requirement already satisfied: text-unidecode>=1.3 in /usr/local/lib/python3.6/dist-packages (from python-slugify->kaggle) (1.3)\n",
      "Requirement already satisfied: idna<3,>=2.5 in /usr/local/lib/python3.6/dist-packages (from requests->kaggle) (2.10)\n",
      "Requirement already satisfied: chardet<4,>=3.0.2 in /usr/local/lib/python3.6/dist-packages (from requests->kaggle) (3.0.4)\n"
     ]
    }
   ],
   "source": [
    "! pip install kaggle\n",
    "!mkdir -p ~/.kaggle"
   ]
  },
  {
   "cell_type": "code",
   "execution_count": 3,
   "metadata": {
    "id": "S0L1SqUanbcS",
    "colab_type": "code",
    "colab": {
     "resources": {
      "http://localhost:8080/nbextensions/google.colab/files.js": {
       "data": "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",
       "ok": true,
       "headers": [
        [
         "content-type",
         "application/javascript"
        ]
       ],
       "status": 200.0,
       "status_text": "OK"
      }
     },
     "base_uri": "https://localhost:8080/",
     "height": 91.0
    },
    "outputId": "7b0aa0fb-4c0c-46d8-9eb2-35f4ad46d480"
   },
   "outputs": [
    {
     "data": {
      "text/html": [
       "\n",
       "     <input type=\"file\" id=\"files-a4a7421c-c338-426e-9cf1-b6786247e752\" name=\"files[]\" multiple disabled\n",
       "        style=\"border:none\" />\n",
       "     <output id=\"result-a4a7421c-c338-426e-9cf1-b6786247e752\">\n",
       "      Upload widget is only available when the cell has been executed in the\n",
       "      current browser session. Please rerun this cell to enable.\n",
       "      </output>\n",
       "      <script src=\"/nbextensions/google.colab/files.js\"></script> "
      ],
      "text/plain": [
       "<IPython.core.display.HTML object>"
      ]
     },
     "metadata": {
      "tags": []
     },
     "output_type": "execute_result"
    },
    {
     "name": "stdout",
     "output_type": "stream",
     "text": [
      "Saving kaggle.json to kaggle.json\n"
     ]
    },
    {
     "data": {
      "text/plain": [
       "{'kaggle.json': b'{\"username\":\"ashnejad\",\"key\":\"249dcaf84b862004c36c1fb1ff6dd01a\"}'}"
      ]
     },
     "execution_count": 3,
     "metadata": {
      "tags": []
     },
     "output_type": "execute_result"
    }
   ],
   "source": [
    "from google.colab import files\n",
    "files.upload()"
   ]
  },
  {
   "cell_type": "code",
   "execution_count": 4,
   "metadata": {
    "id": "nxJVcp6in8FL",
    "colab_type": "code",
    "colab": {}
   },
   "outputs": [],
   "source": [
    "!cp kaggle.json ~/.kaggle/\n",
    "!chmod 600 ~/.kaggle/kaggle.json"
   ]
  },
  {
   "cell_type": "code",
   "execution_count": 5,
   "metadata": {
    "id": "iqlt3B9NoHzz",
    "colab_type": "code",
    "colab": {
     "base_uri": "https://localhost:8080/",
     "height": 259.0
    },
    "outputId": "a9b60f5a-3859-40f9-a684-08bf8c2fc71d"
   },
   "outputs": [
    {
     "name": "stdout",
     "output_type": "stream",
     "text": [
      "Warning: Looks like you're using an outdated API Version, please consider updating (server 1.5.6 / client 1.5.4)\n",
      "Downloading test.zip to /content\n",
      " 31% 5.00M/16.0M [00:00<00:01, 10.8MB/s]\n",
      "100% 16.0M/16.0M [00:00<00:00, 27.2MB/s]\n",
      "Downloading SampleSubmission.csv to /content\n",
      "  0% 0.00/201k [00:00<?, ?B/s]\n",
      "100% 201k/201k [00:00<00:00, 182MB/s]\n",
      "Downloading training.zip to /content\n",
      " 55% 33.0M/60.1M [00:01<00:01, 15.8MB/s]\n",
      "100% 60.1M/60.1M [00:01<00:00, 51.8MB/s]\n",
      "Downloading IdLookupTable.csv to /content\n",
      "  0% 0.00/843k [00:00<?, ?B/s]\n",
      "100% 843k/843k [00:00<00:00, 120MB/s]\n"
     ]
    }
   ],
   "source": [
    "!kaggle competitions download -c facial-keypoints-detection"
   ]
  },
  {
   "cell_type": "code",
   "execution_count": 6,
   "metadata": {
    "id": "a8WhDCRBrtQC",
    "colab_type": "code",
    "colab": {
     "base_uri": "https://localhost:8080/",
     "height": 54.0
    },
    "outputId": "65255d78-58a9-4fc3-9c91-447d74e16b79"
   },
   "outputs": [
    {
     "name": "stdout",
     "output_type": "stream",
     "text": [
      "IdLookupTable.csv  sample_data\t\t test.csv  training.csv\n",
      "kaggle.json\t   SampleSubmission.csv  test.zip  training.zip\n"
     ]
    }
   ],
   "source": [
    "# Unpacking downloaded zips\n",
    "# The output must contain test.csv,  training.csv,  IdLookupTable.csv\n",
    "!unzip -q training.zip -d .\n",
    "!unzip -q test.zip -d .\n",
    "!ls"
   ]
  },
  {
   "cell_type": "markdown",
   "metadata": {
    "id": "fYoJz5S9QJDw",
    "colab_type": "text"
   },
   "source": [
    "#### **Data Preparation**\n"
   ]
  },
  {
   "cell_type": "code",
   "execution_count": 9,
   "metadata": {
    "id": "NyZPuGZ7vHaB",
    "colab_type": "code",
    "colab": {}
   },
   "outputs": [],
   "source": [
    "Train_Dir = 'training.csv'\n",
    "Test_Dir = 'test.csv'\n",
    "lookid_dir = 'IdLookupTable.csv'\n",
    "train = pd.read_csv(Train_Dir)  \n",
    "test = pd.read_csv(Test_Dir)\n",
    "lookid = pd.read_csv(lookid_dir)\n"
   ]
  },
  {
   "cell_type": "code",
   "execution_count": 10,
   "metadata": {
    "id": "zAZBu3n_stRD",
    "colab_type": "code",
    "colab": {
     "base_uri": "https://localhost:8080/",
     "height": 1000.0
    },
    "outputId": "03bd29b9-04ae-4e14-e213-31aa3fe84db0"
   },
   "outputs": [
    {
     "data": {
      "text/html": [
       "<div>\n",
       "<style scoped>\n",
       "    .dataframe tbody tr th:only-of-type {\n",
       "        vertical-align: middle;\n",
       "    }\n",
       "\n",
       "    .dataframe tbody tr th {\n",
       "        vertical-align: top;\n",
       "    }\n",
       "\n",
       "    .dataframe thead th {\n",
       "        text-align: right;\n",
       "    }\n",
       "</style>\n",
       "<table border=\"1\" class=\"dataframe\">\n",
       "  <thead>\n",
       "    <tr style=\"text-align: right;\">\n",
       "      <th></th>\n",
       "      <th>0</th>\n",
       "      <th>1</th>\n",
       "      <th>2</th>\n",
       "      <th>3</th>\n",
       "      <th>4</th>\n",
       "    </tr>\n",
       "  </thead>\n",
       "  <tbody>\n",
       "    <tr>\n",
       "      <th>left_eye_center_x</th>\n",
       "      <td>66.0336</td>\n",
       "      <td>64.3329</td>\n",
       "      <td>65.0571</td>\n",
       "      <td>65.2257</td>\n",
       "      <td>66.7253</td>\n",
       "    </tr>\n",
       "    <tr>\n",
       "      <th>left_eye_center_y</th>\n",
       "      <td>39.0023</td>\n",
       "      <td>34.9701</td>\n",
       "      <td>34.9096</td>\n",
       "      <td>37.2618</td>\n",
       "      <td>39.6213</td>\n",
       "    </tr>\n",
       "    <tr>\n",
       "      <th>right_eye_center_x</th>\n",
       "      <td>30.227</td>\n",
       "      <td>29.9493</td>\n",
       "      <td>30.9038</td>\n",
       "      <td>32.0231</td>\n",
       "      <td>32.2448</td>\n",
       "    </tr>\n",
       "    <tr>\n",
       "      <th>right_eye_center_y</th>\n",
       "      <td>36.4217</td>\n",
       "      <td>33.4487</td>\n",
       "      <td>34.9096</td>\n",
       "      <td>37.2618</td>\n",
       "      <td>38.042</td>\n",
       "    </tr>\n",
       "    <tr>\n",
       "      <th>left_eye_inner_corner_x</th>\n",
       "      <td>59.5821</td>\n",
       "      <td>58.8562</td>\n",
       "      <td>59.412</td>\n",
       "      <td>60.0033</td>\n",
       "      <td>58.5659</td>\n",
       "    </tr>\n",
       "    <tr>\n",
       "      <th>left_eye_inner_corner_y</th>\n",
       "      <td>39.6474</td>\n",
       "      <td>35.2743</td>\n",
       "      <td>36.321</td>\n",
       "      <td>39.1272</td>\n",
       "      <td>39.6213</td>\n",
       "    </tr>\n",
       "    <tr>\n",
       "      <th>left_eye_outer_corner_x</th>\n",
       "      <td>73.1303</td>\n",
       "      <td>70.7227</td>\n",
       "      <td>70.9844</td>\n",
       "      <td>72.3147</td>\n",
       "      <td>72.5159</td>\n",
       "    </tr>\n",
       "    <tr>\n",
       "      <th>left_eye_outer_corner_y</th>\n",
       "      <td>39.97</td>\n",
       "      <td>36.1872</td>\n",
       "      <td>36.321</td>\n",
       "      <td>38.381</td>\n",
       "      <td>39.8845</td>\n",
       "    </tr>\n",
       "    <tr>\n",
       "      <th>right_eye_inner_corner_x</th>\n",
       "      <td>36.3566</td>\n",
       "      <td>36.0347</td>\n",
       "      <td>37.6781</td>\n",
       "      <td>37.6186</td>\n",
       "      <td>36.9824</td>\n",
       "    </tr>\n",
       "    <tr>\n",
       "      <th>right_eye_inner_corner_y</th>\n",
       "      <td>37.3894</td>\n",
       "      <td>34.3615</td>\n",
       "      <td>36.321</td>\n",
       "      <td>38.7541</td>\n",
       "      <td>39.0949</td>\n",
       "    </tr>\n",
       "    <tr>\n",
       "      <th>right_eye_outer_corner_x</th>\n",
       "      <td>23.4529</td>\n",
       "      <td>24.4725</td>\n",
       "      <td>24.9764</td>\n",
       "      <td>25.3073</td>\n",
       "      <td>22.5061</td>\n",
       "    </tr>\n",
       "    <tr>\n",
       "      <th>right_eye_outer_corner_y</th>\n",
       "      <td>37.3894</td>\n",
       "      <td>33.1444</td>\n",
       "      <td>36.6032</td>\n",
       "      <td>38.0079</td>\n",
       "      <td>38.3052</td>\n",
       "    </tr>\n",
       "    <tr>\n",
       "      <th>left_eyebrow_inner_end_x</th>\n",
       "      <td>56.9533</td>\n",
       "      <td>53.9874</td>\n",
       "      <td>55.7425</td>\n",
       "      <td>56.4338</td>\n",
       "      <td>57.2496</td>\n",
       "    </tr>\n",
       "    <tr>\n",
       "      <th>left_eyebrow_inner_end_y</th>\n",
       "      <td>29.0336</td>\n",
       "      <td>28.2759</td>\n",
       "      <td>27.5709</td>\n",
       "      <td>30.9299</td>\n",
       "      <td>30.6722</td>\n",
       "    </tr>\n",
       "    <tr>\n",
       "      <th>left_eyebrow_outer_end_x</th>\n",
       "      <td>80.2271</td>\n",
       "      <td>78.6342</td>\n",
       "      <td>78.8874</td>\n",
       "      <td>77.9103</td>\n",
       "      <td>77.7629</td>\n",
       "    </tr>\n",
       "    <tr>\n",
       "      <th>left_eyebrow_outer_end_y</th>\n",
       "      <td>32.2281</td>\n",
       "      <td>30.4059</td>\n",
       "      <td>32.6516</td>\n",
       "      <td>31.6657</td>\n",
       "      <td>31.7372</td>\n",
       "    </tr>\n",
       "    <tr>\n",
       "      <th>right_eyebrow_inner_end_x</th>\n",
       "      <td>40.2276</td>\n",
       "      <td>42.7289</td>\n",
       "      <td>42.1939</td>\n",
       "      <td>41.6715</td>\n",
       "      <td>38.0354</td>\n",
       "    </tr>\n",
       "    <tr>\n",
       "      <th>right_eyebrow_inner_end_y</th>\n",
       "      <td>29.0023</td>\n",
       "      <td>26.146</td>\n",
       "      <td>28.1355</td>\n",
       "      <td>31.05</td>\n",
       "      <td>30.9354</td>\n",
       "    </tr>\n",
       "    <tr>\n",
       "      <th>right_eyebrow_outer_end_x</th>\n",
       "      <td>16.3564</td>\n",
       "      <td>16.8654</td>\n",
       "      <td>16.7912</td>\n",
       "      <td>20.458</td>\n",
       "      <td>15.9259</td>\n",
       "    </tr>\n",
       "    <tr>\n",
       "      <th>right_eyebrow_outer_end_y</th>\n",
       "      <td>29.6475</td>\n",
       "      <td>27.0589</td>\n",
       "      <td>32.0871</td>\n",
       "      <td>29.9093</td>\n",
       "      <td>30.6722</td>\n",
       "    </tr>\n",
       "    <tr>\n",
       "      <th>nose_tip_x</th>\n",
       "      <td>44.4206</td>\n",
       "      <td>48.2063</td>\n",
       "      <td>47.5573</td>\n",
       "      <td>51.8851</td>\n",
       "      <td>43.2995</td>\n",
       "    </tr>\n",
       "    <tr>\n",
       "      <th>nose_tip_y</th>\n",
       "      <td>57.0668</td>\n",
       "      <td>55.6609</td>\n",
       "      <td>53.5389</td>\n",
       "      <td>54.1665</td>\n",
       "      <td>64.8895</td>\n",
       "    </tr>\n",
       "    <tr>\n",
       "      <th>mouth_left_corner_x</th>\n",
       "      <td>61.1953</td>\n",
       "      <td>56.4214</td>\n",
       "      <td>60.8229</td>\n",
       "      <td>65.5989</td>\n",
       "      <td>60.6714</td>\n",
       "    </tr>\n",
       "    <tr>\n",
       "      <th>mouth_left_corner_y</th>\n",
       "      <td>79.9702</td>\n",
       "      <td>76.352</td>\n",
       "      <td>73.0143</td>\n",
       "      <td>72.7037</td>\n",
       "      <td>77.5232</td>\n",
       "    </tr>\n",
       "    <tr>\n",
       "      <th>mouth_right_corner_x</th>\n",
       "      <td>28.6145</td>\n",
       "      <td>35.1224</td>\n",
       "      <td>33.7263</td>\n",
       "      <td>37.2455</td>\n",
       "      <td>31.1918</td>\n",
       "    </tr>\n",
       "    <tr>\n",
       "      <th>mouth_right_corner_y</th>\n",
       "      <td>77.389</td>\n",
       "      <td>76.0477</td>\n",
       "      <td>72.732</td>\n",
       "      <td>74.1955</td>\n",
       "      <td>76.9973</td>\n",
       "    </tr>\n",
       "    <tr>\n",
       "      <th>mouth_center_top_lip_x</th>\n",
       "      <td>43.3126</td>\n",
       "      <td>46.6846</td>\n",
       "      <td>47.2749</td>\n",
       "      <td>50.3032</td>\n",
       "      <td>44.9627</td>\n",
       "    </tr>\n",
       "    <tr>\n",
       "      <th>mouth_center_top_lip_y</th>\n",
       "      <td>72.9355</td>\n",
       "      <td>70.2666</td>\n",
       "      <td>70.1918</td>\n",
       "      <td>70.0917</td>\n",
       "      <td>73.7074</td>\n",
       "    </tr>\n",
       "    <tr>\n",
       "      <th>mouth_center_bottom_lip_x</th>\n",
       "      <td>43.1307</td>\n",
       "      <td>45.4679</td>\n",
       "      <td>47.2749</td>\n",
       "      <td>51.5612</td>\n",
       "      <td>44.2271</td>\n",
       "    </tr>\n",
       "    <tr>\n",
       "      <th>mouth_center_bottom_lip_y</th>\n",
       "      <td>84.4858</td>\n",
       "      <td>85.4802</td>\n",
       "      <td>78.6594</td>\n",
       "      <td>78.2684</td>\n",
       "      <td>86.8712</td>\n",
       "    </tr>\n",
       "    <tr>\n",
       "      <th>Image</th>\n",
       "      <td>238 236 237 238 240 240 239 241 241 243 240 23...</td>\n",
       "      <td>219 215 204 196 204 211 212 200 180 168 178 19...</td>\n",
       "      <td>144 142 159 180 188 188 184 180 167 132 84 59 ...</td>\n",
       "      <td>193 192 193 194 194 194 193 192 168 111 50 12 ...</td>\n",
       "      <td>147 148 160 196 215 214 216 217 219 220 206 18...</td>\n",
       "    </tr>\n",
       "  </tbody>\n",
       "</table>\n",
       "</div>"
      ],
      "text/plain": [
       "                                                                           0  ...                                                  4\n",
       "left_eye_center_x                                                    66.0336  ...                                            66.7253\n",
       "left_eye_center_y                                                    39.0023  ...                                            39.6213\n",
       "right_eye_center_x                                                    30.227  ...                                            32.2448\n",
       "right_eye_center_y                                                   36.4217  ...                                             38.042\n",
       "left_eye_inner_corner_x                                              59.5821  ...                                            58.5659\n",
       "left_eye_inner_corner_y                                              39.6474  ...                                            39.6213\n",
       "left_eye_outer_corner_x                                              73.1303  ...                                            72.5159\n",
       "left_eye_outer_corner_y                                                39.97  ...                                            39.8845\n",
       "right_eye_inner_corner_x                                             36.3566  ...                                            36.9824\n",
       "right_eye_inner_corner_y                                             37.3894  ...                                            39.0949\n",
       "right_eye_outer_corner_x                                             23.4529  ...                                            22.5061\n",
       "right_eye_outer_corner_y                                             37.3894  ...                                            38.3052\n",
       "left_eyebrow_inner_end_x                                             56.9533  ...                                            57.2496\n",
       "left_eyebrow_inner_end_y                                             29.0336  ...                                            30.6722\n",
       "left_eyebrow_outer_end_x                                             80.2271  ...                                            77.7629\n",
       "left_eyebrow_outer_end_y                                             32.2281  ...                                            31.7372\n",
       "right_eyebrow_inner_end_x                                            40.2276  ...                                            38.0354\n",
       "right_eyebrow_inner_end_y                                            29.0023  ...                                            30.9354\n",
       "right_eyebrow_outer_end_x                                            16.3564  ...                                            15.9259\n",
       "right_eyebrow_outer_end_y                                            29.6475  ...                                            30.6722\n",
       "nose_tip_x                                                           44.4206  ...                                            43.2995\n",
       "nose_tip_y                                                           57.0668  ...                                            64.8895\n",
       "mouth_left_corner_x                                                  61.1953  ...                                            60.6714\n",
       "mouth_left_corner_y                                                  79.9702  ...                                            77.5232\n",
       "mouth_right_corner_x                                                 28.6145  ...                                            31.1918\n",
       "mouth_right_corner_y                                                  77.389  ...                                            76.9973\n",
       "mouth_center_top_lip_x                                               43.3126  ...                                            44.9627\n",
       "mouth_center_top_lip_y                                               72.9355  ...                                            73.7074\n",
       "mouth_center_bottom_lip_x                                            43.1307  ...                                            44.2271\n",
       "mouth_center_bottom_lip_y                                            84.4858  ...                                            86.8712\n",
       "Image                      238 236 237 238 240 240 239 241 241 243 240 23...  ...  147 148 160 196 215 214 216 217 219 220 206 18...\n",
       "\n",
       "[31 rows x 5 columns]"
      ]
     },
     "execution_count": 10,
     "metadata": {
      "tags": []
     },
     "output_type": "execute_result"
    }
   ],
   "source": [
    "# a preview of the data\n",
    "train.head(5).T"
   ]
  },
  {
   "cell_type": "code",
   "execution_count": 11,
   "metadata": {
    "id": "dSdc5m2uTG3g",
    "colab_type": "code",
    "colab": {
     "base_uri": "https://localhost:8080/",
     "height": 36.0
    },
    "outputId": "d556207a-d2c2-44b5-ea93-10c39b0516d2"
   },
   "outputs": [
    {
     "data": {
      "text/plain": [
       "(7049, 31)"
      ]
     },
     "execution_count": 11,
     "metadata": {
      "tags": []
     },
     "output_type": "execute_result"
    }
   ],
   "source": [
    "train.shape"
   ]
  },
  {
   "cell_type": "code",
   "execution_count": 12,
   "metadata": {
    "id": "osYfhkt8S4lt",
    "colab_type": "code",
    "colab": {}
   },
   "outputs": [],
   "source": [
    "# removing the NaN data\n",
    "#train = train.dropna()\n",
    "\n",
    "# filling with mean of the cloumn   #Not working !!!\n",
    "# column_means = train.mean()\n",
    "# train = train.fillna(column_means)"
   ]
  },
  {
   "cell_type": "code",
   "execution_count": 13,
   "metadata": {
    "id": "SUvGw5n3i8e7",
    "colab_type": "code",
    "colab": {}
   },
   "outputs": [],
   "source": [
    "train.fillna( method ='ffill', inplace = True)    #TODO"
   ]
  },
  {
   "cell_type": "code",
   "execution_count": 9,
   "metadata": {
    "id": "hv0EKPVeTRvl",
    "colab_type": "code",
    "colab": {
     "base_uri": "https://localhost:8080/",
     "height": 36.0
    },
    "outputId": "5ad59f9d-76f3-42f8-af3f-b8a1e7cdc8a5"
   },
   "outputs": [
    {
     "data": {
      "text/plain": [
       "(7049, 31)"
      ]
     },
     "execution_count": 9,
     "metadata": {
      "tags": []
     },
     "output_type": "execute_result"
    }
   ],
   "source": [
    "train.shape"
   ]
  },
  {
   "cell_type": "markdown",
   "metadata": {
    "id": "F_gVmX7uUe_r",
    "colab_type": "text"
   },
   "source": [
    "The elimination of rows with NaN values have reduced our original data to less than a third. Since the data volume is vital for a Deep Learning system and  filling by mean of the corresponding columns is a time consuming process, we temporarily filled the values by the the value of the previous row.\n",
    "\n",
    "In the following section, the train data frame is splited into two dataframes, one containing images, the other containing key-points info.\n"
   ]
  },
  {
   "cell_type": "code",
   "execution_count": 14,
   "metadata": {
    "id": "JyNPBJL3U7n_",
    "colab_type": "code",
    "colab": {
     "base_uri": "https://localhost:8080/",
     "height": 206.0
    },
    "outputId": "607f0f4d-1f9f-4147-96b5-369129e66533"
   },
   "outputs": [
    {
     "data": {
      "text/html": [
       "<div>\n",
       "<style scoped>\n",
       "    .dataframe tbody tr th:only-of-type {\n",
       "        vertical-align: middle;\n",
       "    }\n",
       "\n",
       "    .dataframe tbody tr th {\n",
       "        vertical-align: top;\n",
       "    }\n",
       "\n",
       "    .dataframe thead th {\n",
       "        text-align: right;\n",
       "    }\n",
       "</style>\n",
       "<table border=\"1\" class=\"dataframe\">\n",
       "  <thead>\n",
       "    <tr style=\"text-align: right;\">\n",
       "      <th></th>\n",
       "      <th>Image</th>\n",
       "    </tr>\n",
       "  </thead>\n",
       "  <tbody>\n",
       "    <tr>\n",
       "      <th>0</th>\n",
       "      <td>238 236 237 238 240 240 239 241 241 243 240 23...</td>\n",
       "    </tr>\n",
       "    <tr>\n",
       "      <th>1</th>\n",
       "      <td>219 215 204 196 204 211 212 200 180 168 178 19...</td>\n",
       "    </tr>\n",
       "    <tr>\n",
       "      <th>2</th>\n",
       "      <td>144 142 159 180 188 188 184 180 167 132 84 59 ...</td>\n",
       "    </tr>\n",
       "    <tr>\n",
       "      <th>3</th>\n",
       "      <td>193 192 193 194 194 194 193 192 168 111 50 12 ...</td>\n",
       "    </tr>\n",
       "    <tr>\n",
       "      <th>4</th>\n",
       "      <td>147 148 160 196 215 214 216 217 219 220 206 18...</td>\n",
       "    </tr>\n",
       "  </tbody>\n",
       "</table>\n",
       "</div>"
      ],
      "text/plain": [
       "                                               Image\n",
       "0  238 236 237 238 240 240 239 241 241 243 240 23...\n",
       "1  219 215 204 196 204 211 212 200 180 168 178 19...\n",
       "2  144 142 159 180 188 188 184 180 167 132 84 59 ...\n",
       "3  193 192 193 194 194 194 193 192 168 111 50 12 ...\n",
       "4  147 148 160 196 215 214 216 217 219 220 206 18..."
      ]
     },
     "execution_count": 14,
     "metadata": {
      "tags": []
     },
     "output_type": "execute_result"
    }
   ],
   "source": [
    "img_df = train.iloc[:, 30:31]     # images dataset\n",
    "points_df = train.iloc[:, 0:30]   # key-points dataset\n",
    "img_df.head(5)                 # logging the first five images"
   ]
  },
  {
   "cell_type": "markdown",
   "metadata": {
    "id": "BWATWHiEqZ6a",
    "colab_type": "text"
   },
   "source": [
    "Next, we will reform the from on string to a Matrix. In this transformation, the missing values are replcaed with the mean of the image as well.\n",
    "\n",
    "TODO : fill the lost pixels with better value"
   ]
  },
  {
   "cell_type": "code",
   "execution_count": 15,
   "metadata": {
    "id": "v_c29D_zqZKi",
    "colab_type": "code",
    "colab": {}
   },
   "outputs": [],
   "source": [
    "imgs = []\n",
    "for i in range(0,train.shape[0]):\n",
    "    img = np.reshape(np.array(img_df[\"Image\"][i].split(' '), dtype='float'), (96,96))\n",
    "    imgs.append(img)\n",
    "\n",
    "imgs = np.array(imgs)/255."
   ]
  },
  {
   "cell_type": "markdown",
   "metadata": {
    "id": "DTKvgKl39IeS",
    "colab_type": "text"
   },
   "source": [
    "In addition to image transformation, each row of points should be conveted to a list."
   ]
  },
  {
   "cell_type": "code",
   "execution_count": 16,
   "metadata": {
    "id": "QFD-JE8_9sfR",
    "colab_type": "code",
    "colab": {}
   },
   "outputs": [],
   "source": [
    "points = points_df.values.tolist()"
   ]
  },
  {
   "cell_type": "markdown",
   "metadata": {
    "id": "LRsBwo430jBk",
    "colab_type": "text"
   },
   "source": [
    "#### **Visualization**"
   ]
  },
  {
   "cell_type": "markdown",
   "metadata": {
    "id": "4mwWLFpt0msv",
    "colab_type": "text"
   },
   "source": [
    "Now that the images are read and transformed to the proper structure we define a function for visulizaing an image with its key-points\n"
   ]
  },
  {
   "cell_type": "code",
   "execution_count": 22,
   "metadata": {
    "id": "Jy5QkH9d0ym9",
    "colab_type": "code",
    "colab": {}
   },
   "outputs": [],
   "source": [
    "def viualizeImageWithKeyPoints(img, keypoints, axis):\n",
    "  axis.imshow(img, cmap='gray')\n",
    "  axis.scatter(keypoints[::2], keypoints[1::2], marker='o', s=20)   #splits to Ys and Xs and shows\n",
    "  plt.show()"
   ]
  },
  {
   "cell_type": "code",
   "execution_count": 137,
   "metadata": {
    "id": "4Gd4yCIb_k0i",
    "colab_type": "code",
    "colab": {
     "base_uri": "https://localhost:8080/",
     "height": 268.0
    },
    "outputId": "b7fa4119-fc25-4bae-9fda-e23eb90ef21b"
   },
   "outputs": [
    {
     "data": {
      "image/png": "[encoded data removed]",
      "text/plain": [
       "<Figure size 432x288 with 1 Axes>"
      ]
     },
     "metadata": {
      "tags": [],
      "needs_background": "light"
     },
     "output_type": "display_data"
    }
   ],
   "source": [
    "viualizeImageWithKeyPoints(imgs[1], points[1], plt)"
   ]
  },
  {
   "cell_type": "markdown",
   "metadata": {
    "id": "qeuY9uGNAmlP",
    "colab_type": "text"
   },
   "source": [
    "#### **Data Augmentation**\n",
    "\n",
    "In this section, we are going to use the idea which AlexNet used to produce a feature invariant to transformation. For more info, take a look at [this link](https://link.springer.com/article/10.1186/s40537-019-0197-0)\n",
    "\n",
    "For this purpose, we transofrm each image to a 85-in-85 size and place it randomly in an area in the original in a way that contains all the key-points"
   ]
  },
  {
   "cell_type": "code",
   "execution_count": 17,
   "metadata": {
    "id": "7sHcTFUmMu4F",
    "colab_type": "code",
    "colab": {}
   },
   "outputs": [],
   "source": [
    "maxCropSize = 10"
   ]
  },
  {
   "cell_type": "code",
   "execution_count": 18,
   "metadata": {
    "id": "Ce7FrnFCBPVY",
    "colab_type": "code",
    "colab": {}
   },
   "outputs": [],
   "source": [
    "def imageAugmentation(img, kps):\n",
    "  # res_imgs=[]\n",
    "  res_pnts=np.empty((1,30))\n",
    "  res_imgs=np.empty((1,96-(2*maxCropSize),96-(2*maxCropSize)))\n",
    "  for i in range(4):\n",
    "    x_tr = random.randint(-maxCropSize,maxCropSize)\n",
    "    y_tr = random.randint(-maxCropSize,maxCropSize)\n",
    "    im = img[maxCropSize+int(y_tr/2):(96-(maxCropSize-int(y_tr/2))),\n",
    "             maxCropSize+int(x_tr/2):(96-(maxCropSize-int(x_tr/2)))]# value of crop from left, top, right, bottom respectivley\n",
    "\n",
    "\n",
    "    # calculate the new position of the key-points\n",
    "    y_tr=int(maxCropSize) + int(y_tr/2)\n",
    "    x_tr=int(maxCropSize) + int(x_tr/2)\n",
    "    pnts_tr = kps - np.array([x_tr,y_tr,x_tr,y_tr,x_tr,y_tr,x_tr,y_tr,\n",
    "                              x_tr,y_tr,x_tr,y_tr,x_tr,y_tr,x_tr,y_tr,\n",
    "                              x_tr,y_tr,x_tr,y_tr,x_tr,y_tr,x_tr,y_tr,\n",
    "                              x_tr,y_tr,x_tr,y_tr,x_tr,y_tr])\n",
    "    res_imgs=np.concatenate((res_imgs , im.reshape(1, 96-(2*maxCropSize),96-(2*maxCropSize)))) \n",
    "    res_pnts=np.concatenate((res_pnts , pnts_tr.reshape(1,30))) \n",
    "    # viualizeImageWithKeyPoints(im, pnts_tr, plt)\n",
    "  res_imgs = np.delete(res_imgs, 0, 0)          # TODO find a better conc method\n",
    "  res_pnts = np.delete(res_pnts, 0, 0)\n",
    "  return res_imgs, res_pnts"
   ]
  },
  {
   "cell_type": "markdown",
   "metadata": {
    "id": "-MrWjwMg24NV",
    "colab_type": "text"
   },
   "source": [
    "Creating the final augmented images dataset\n"
   ]
  },
  {
   "cell_type": "code",
   "execution_count": 19,
   "metadata": {
    "id": "QpY2LkZfIZht",
    "colab_type": "code",
    "colab": {
     "base_uri": "https://localhost:8080/",
     "height": 36.0
    },
    "outputId": "c2c31887-af18-444a-d12d-48b893e2a7fb"
   },
   "outputs": [
    {
     "data": {
      "text/plain": [
       "(4, 30)"
      ]
     },
     "execution_count": 19,
     "metadata": {
      "tags": []
     },
     "output_type": "execute_result"
    }
   ],
   "source": [
    "# for i in range(imfs):\n",
    "#   imageAugmentation(imgs[i],points[i])\n",
    "a,b = imageAugmentation(imgs[1],points[1])\n",
    "b.shape"
   ]
  },
  {
   "cell_type": "code",
   "execution_count": 20,
   "metadata": {
    "id": "NetOMQVN4Qt4",
    "colab_type": "code",
    "colab": {
     "base_uri": "https://localhost:8080/",
     "height": 91.0
    },
    "outputId": "3439f5e5-5497-4066-f3b4-55c7f78928a4"
   },
   "outputs": [
    {
     "name": "stdout",
     "output_type": "stream",
     "text": [
      "augmented\n",
      "augmented\n",
      "augmented\n",
      "augmented\n"
     ]
    }
   ],
   "source": [
    "finalImgs = np.empty((1,96-(2*maxCropSize),96-(2*maxCropSize)))\n",
    "finalPnts = np.empty((1,30))\n",
    "#imgs.shape[0]\n",
    "for i in range(4):\n",
    "  ims, pnts = imageAugmentation(imgs[i],points[i])\n",
    "  finalImgs=np.concatenate((finalImgs , ims))\n",
    "  finalPnts=np.concatenate((finalPnts , pnts))\n",
    "\n",
    "finalImgs = np.delete(finalImgs, 0, 0)          # TODO find a better conc method\n",
    "finalPnts = np.delete(finalPnts, 0, 0)\n"
   ]
  },
  {
   "cell_type": "code",
   "execution_count": 27,
   "metadata": {
    "id": "VIp18ZfRJRwJ",
    "colab_type": "code",
    "colab": {
     "base_uri": "https://localhost:8080/",
     "height": 36.0
    },
    "outputId": "3be7650f-ec75-4e44-f897-038b3473d4ae"
   },
   "outputs": [
    {
     "data": {
      "text/plain": [
       "(16, 76, 76)"
      ]
     },
     "execution_count": 27,
     "metadata": {
      "tags": []
     },
     "output_type": "execute_result"
    }
   ],
   "source": [
    "# for i in range(16):\n",
    "#   viualizeImageWithKeyPoints(finalImgs[i], finalPnts[i], plt)\n",
    "\n",
    "finalImgs.shape"
   ]
  }
 ],
 "metadata": {
  "colab": {
   "name": "Facial-Keypoint Detection.ipynb",
   "provenance": [],
   "collapsed_sections": [
    "zb3_Qb9C1hV7",
    "LRsBwo430jBk"
   ]
  },
  "kernelspec": {
   "name": "python3",
   "display_name": "Python 3"
  },
  "accelerator": "GPU"
 },
 "nbformat": 4,
 "nbformat_minor": 0
}
